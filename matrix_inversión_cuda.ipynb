{
  "nbformat": 4,
  "nbformat_minor": 0,
  "metadata": {
    "colab": {
      "provenance": [],
      "gpuType": "T4",
      "authorship_tag": "ABX9TyMBnlylA2VXjPvIYU0Ksgja"
    },
    "kernelspec": {
      "name": "python3",
      "display_name": "Python 3"
    },
    "language_info": {
      "name": "python"
    },
    "accelerator": "GPU"
  },
  "cells": [
    {
      "cell_type": "markdown",
      "source": [
        "# Instalación de librerias necesarias"
      ],
      "metadata": {
        "id": "Cqih2j2BM9zl"
      }
    },
    {
      "cell_type": "code",
      "source": [
        "!pip install cupy-cuda12x\n",
        "!pip install torch torchvision torchaudio --index-url https://download.pytorch.org/whl/cu118 -q\n",
        "\n",
        "print(\"Instalación completada\")"
      ],
      "metadata": {
        "colab": {
          "base_uri": "https://localhost:8080/"
        },
        "id": "FkPf3G0iUcir",
        "outputId": "ad3efdf8-2088-461a-b67d-bba4e6ec8a83"
      },
      "execution_count": null,
      "outputs": [
        {
          "output_type": "stream",
          "name": "stdout",
          "text": [
            "Requirement already satisfied: cupy-cuda12x in /usr/local/lib/python3.11/dist-packages (13.3.0)\n",
            "Requirement already satisfied: numpy<2.3,>=1.22 in /usr/local/lib/python3.11/dist-packages (from cupy-cuda12x) (2.0.2)\n",
            "Requirement already satisfied: fastrlock>=0.5 in /usr/local/lib/python3.11/dist-packages (from cupy-cuda12x) (0.8.3)\n",
            "\u001b[2K     \u001b[90m━━━━━━━━━━━━━━━━━━━━━━━━━━━━━━━━━━━━━━━━\u001b[0m \u001b[32m23.2/23.2 MB\u001b[0m \u001b[31m80.8 MB/s\u001b[0m eta \u001b[36m0:00:00\u001b[0m\n",
            "\u001b[2K     \u001b[90m━━━━━━━━━━━━━━━━━━━━━━━━━━━━━━━━━━━━━━\u001b[0m \u001b[32m875.6/875.6 kB\u001b[0m \u001b[31m38.9 MB/s\u001b[0m eta \u001b[36m0:00:00\u001b[0m\n",
            "\u001b[2K     \u001b[90m━━━━━━━━━━━━━━━━━━━━━━━━━━━━━━━━━━━━━━━━\u001b[0m \u001b[32m13.1/13.1 MB\u001b[0m \u001b[31m79.6 MB/s\u001b[0m eta \u001b[36m0:00:00\u001b[0m\n",
            "\u001b[2K     \u001b[90m━━━━━━━━━━━━━━━━━━━━━━━━━━━━━━━━━━━━━━━\u001b[0m \u001b[32m663.9/663.9 MB\u001b[0m \u001b[31m2.2 MB/s\u001b[0m eta \u001b[36m0:00:00\u001b[0m\n",
            "\u001b[2K     \u001b[90m━━━━━━━━━━━━━━━━━━━━━━━━━━━━━━━━━━━━━━━\u001b[0m \u001b[32m417.9/417.9 MB\u001b[0m \u001b[31m3.6 MB/s\u001b[0m eta \u001b[36m0:00:00\u001b[0m\n",
            "\u001b[2K     \u001b[90m━━━━━━━━━━━━━━━━━━━━━━━━━━━━━━━━━━━━━━━\u001b[0m \u001b[32m168.4/168.4 MB\u001b[0m \u001b[31m6.0 MB/s\u001b[0m eta \u001b[36m0:00:00\u001b[0m\n",
            "\u001b[2K     \u001b[90m━━━━━━━━━━━━━━━━━━━━━━━━━━━━━━━━━━━━━━━━\u001b[0m \u001b[32m58.1/58.1 MB\u001b[0m \u001b[31m14.4 MB/s\u001b[0m eta \u001b[36m0:00:00\u001b[0m\n",
            "\u001b[2K     \u001b[90m━━━━━━━━━━━━━━━━━━━━━━━━━━━━━━━━━━━━━━━\u001b[0m \u001b[32m128.2/128.2 MB\u001b[0m \u001b[31m7.5 MB/s\u001b[0m eta \u001b[36m0:00:00\u001b[0m\n",
            "\u001b[2K     \u001b[90m━━━━━━━━━━━━━━━━━━━━━━━━━━━━━━━━━━━━━━━\u001b[0m \u001b[32m204.1/204.1 MB\u001b[0m \u001b[31m5.4 MB/s\u001b[0m eta \u001b[36m0:00:00\u001b[0m\n",
            "\u001b[2K     \u001b[90m━━━━━━━━━━━━━━━━━━━━━━━━━━━━━━━━━━━━━━━\u001b[0m \u001b[32m147.8/147.8 MB\u001b[0m \u001b[31m6.4 MB/s\u001b[0m eta \u001b[36m0:00:00\u001b[0m\n",
            "\u001b[2K     \u001b[90m━━━━━━━━━━━━━━━━━━━━━━━━━━━━━━━━━━━━━━━━\u001b[0m \u001b[32m99.1/99.1 kB\u001b[0m \u001b[31m8.7 MB/s\u001b[0m eta \u001b[36m0:00:00\u001b[0m\n",
            "\u001b[2K   \u001b[90m━━━━━━━━━━━━━━━━━━━━━━━━━━━━━━━━━━━━━━━━\u001b[0m \u001b[32m848.7/848.7 MB\u001b[0m \u001b[31m1.8 MB/s\u001b[0m eta \u001b[36m0:00:00\u001b[0m\n",
            "\u001b[?25h✅ Instalación completada\n"
          ]
        }
      ]
    },
    {
      "cell_type": "markdown",
      "source": [
        "Se hace necesario conocer la versión de CUDA y de la del compilador para que el gestor tenga versiones compatibles"
      ],
      "metadata": {
        "id": "mN_ZN7LH2taL"
      }
    },
    {
      "cell_type": "code",
      "source": [
        "# Verificar versión CUDA\n",
        "!nvidia-smi\n",
        "print(\"\\n\" + \"=\"*50)\n",
        "!nvcc --version"
      ],
      "metadata": {
        "colab": {
          "base_uri": "https://localhost:8080/"
        },
        "id": "A4cUIzAuWl_x",
        "outputId": "2591106f-60a7-4618-ca91-47a011792b79"
      },
      "execution_count": null,
      "outputs": [
        {
          "output_type": "stream",
          "name": "stdout",
          "text": [
            "Fri Jun 20 17:19:20 2025       \n",
            "+-----------------------------------------------------------------------------------------+\n",
            "| NVIDIA-SMI 550.54.15              Driver Version: 550.54.15      CUDA Version: 12.4     |\n",
            "|-----------------------------------------+------------------------+----------------------+\n",
            "| GPU  Name                 Persistence-M | Bus-Id          Disp.A | Volatile Uncorr. ECC |\n",
            "| Fan  Temp   Perf          Pwr:Usage/Cap |           Memory-Usage | GPU-Util  Compute M. |\n",
            "|                                         |                        |               MIG M. |\n",
            "|=========================================+========================+======================|\n",
            "|   0  Tesla T4                       Off |   00000000:00:04.0 Off |                    0 |\n",
            "| N/A   42C    P8             10W /   70W |       0MiB /  15360MiB |      0%      Default |\n",
            "|                                         |                        |                  N/A |\n",
            "+-----------------------------------------+------------------------+----------------------+\n",
            "                                                                                         \n",
            "+-----------------------------------------------------------------------------------------+\n",
            "| Processes:                                                                              |\n",
            "|  GPU   GI   CI        PID   Type   Process name                              GPU Memory |\n",
            "|        ID   ID                                                               Usage      |\n",
            "|=========================================================================================|\n",
            "|  No running processes found                                                             |\n",
            "+-----------------------------------------------------------------------------------------+\n",
            "\n",
            "==================================================\n",
            "nvcc: NVIDIA (R) Cuda compiler driver\n",
            "Copyright (c) 2005-2024 NVIDIA Corporation\n",
            "Built on Thu_Jun__6_02:18:23_PDT_2024\n",
            "Cuda compilation tools, release 12.5, V12.5.82\n",
            "Build cuda_12.5.r12.5/compiler.34385749_0\n"
          ]
        }
      ]
    },
    {
      "cell_type": "code",
      "source": [
        "import numpy as np\n",
        "import time\n",
        "import matplotlib.pyplot as plt\n",
        "\n",
        "# Verificar CuPy disponibilidad\n",
        "try:\n",
        "    import cupy as cp\n",
        "    GPU_CUPY_AVAILABLE = True\n",
        "    print(\"CuPy disponible\")\n",
        "    print(f\"   GPU: {cp.cuda.runtime.getDeviceProperties(0)['name'].decode()}\")\n",
        "    print(f\"   Memoria: {cp.cuda.runtime.memGetInfo()[1] / 1024**3:.1f} GB\")\n",
        "except ImportError:\n",
        "  #No se pudo trabajar con CUDA, cambiar la versión o el entorno de ejecución\n",
        "    GPU_CUPY_AVAILABLE = False\n",
        "    print(\"   CuPy no disponible\")\n",
        "\n",
        "# Verificar PyTorch\n",
        "try:\n",
        "  #Verificación del paquete pytorch para calculos con GPU\n",
        "    import torch\n",
        "    GPU_TORCH_AVAILABLE = torch.cuda.is_available()\n",
        "    if GPU_TORCH_AVAILABLE:\n",
        "        print(\"    PyTorch GPU disponible\")\n",
        "        print(f\"   GPU: {torch.cuda.get_device_name(0)}\")\n",
        "        print(f\"   Memoria: {torch.cuda.get_device_properties(0).total_memory / 1024**3:.1f} GB\")\n",
        "    else:\n",
        "      #A cambiar el entorno de ejecución\n",
        "        print(\"   PyTorch GPU no disponible\")\n",
        "except ImportError:\n",
        "    GPU_TORCH_AVAILABLE = False\n",
        "    print(\"    PyTorch no disponible\")\n",
        "\n",
        "print(f\"\\n🔧 Estado: CuPy={GPU_CUPY_AVAILABLE}, PyTorch={GPU_TORCH_AVAILABLE}\")"
      ],
      "metadata": {
        "colab": {
          "base_uri": "https://localhost:8080/"
        },
        "id": "CRLdKopsUd0M",
        "outputId": "9308239b-9fc4-4e97-9195-0617f036242f"
      },
      "execution_count": null,
      "outputs": [
        {
          "output_type": "stream",
          "name": "stdout",
          "text": [
            "    CuPy disponible\n",
            "   GPU: Tesla T4\n",
            "   Memoria: 14.7 GB\n",
            "    PyTorch GPU disponible\n",
            "   GPU: Tesla T4\n",
            "   Memoria: 14.7 GB\n",
            "\n",
            "🔧 Estado: CuPy=True, PyTorch=True\n"
          ]
        }
      ]
    },
    {
      "cell_type": "markdown",
      "source": [
        "# Definición de la clase GPUMatrixInverter\n",
        "\n",
        "Está diseñada para realizar la inversión de matrices utilizando la aceleración de GPU con CuPy (para GPUs NVIDIA) y PyTorch, usando los paquetes propios de cada libreria, llamando metodos de inversa y pseudo inversa.\n",
        "\n",
        "## Comparación de metodos\n",
        "En este caso, el método `compare_methods` se encarga de evaluar y comparar el rendimiento de diferentes librerías y algoritmos para el cálculo de la inversa de una matriz. Su objetivo principal es mostrar cuál método es más rápido y preciso para una matriz dada, aprovechando tanto la CPU como la GPU si están disponibles.\n",
        "\n",
        "## Resultados\n",
        "Se hace importante mencionar los valores de el diccionario `results`\n",
        "\n",
        "* `time`: Esta variable representa el tiempo que tardó el método en calcular la  inversa de la matriz A. Se mide en segundos y se obtiene restando start_time (el momento en que comenzó el cálculo) de end_time (el momento en que terminó el cálculo). Un valor más bajo indica que el método es más rápido.\n",
        "\n",
        "* `valid`: Esta es una variable booleana (es decir, puede ser True o False) que indica si la inversa calculada es considerada \"válida\" o suficientemente precisa. Se determina usando `np.allclose(A @ inv_matrix, np.eye(len(A)), atol=1e-5)`.\n",
        "\n",
        "  * `np.allclose` compara dos arreglos (en este caso, el producto de A y inv_matrix con la matriz identidad) y devuelve True si son iguales dentro de una tolerancia específica (atol=1e-5).\n",
        "\n",
        "  * Un valor de True significa que la matriz multiplicada por su inversa es muy cercana a la matriz identidad, lo que sugiere un buen resultado. False indica que la precisión no es suficiente.\n",
        "\n",
        "* `error`: Como ya vimos, esta variable representa el máximo error absoluto entre el producto de la matriz original y su inversa calculada, y la matriz identidad. Un error más cercano a cero indica una mayor precisión en el cálculo de la inversa.\n",
        "\n",
        "* `inverse`: Esta variable contiene la matriz inversa real calculada por el método correspondiente. Es decir, es el resultado directo de la función `method(A.copy())`. Esta es la matriz que, al multiplicarse por A, debería dar como resultado la matriz identidad (o algo muy cercano a ella)."
      ],
      "metadata": {
        "id": "ysZkZBmhPH88"
      }
    },
    {
      "cell_type": "code",
      "source": [
        "class GPUMatrixInverter:\n",
        "    \"\"\"\n",
        "    Clase para inversión de matrices usando GPU, tnato con Cupy como con Torch\n",
        "    Esta clase  permite:\n",
        "\n",
        "    Realizar la inversión directa de matrices.\n",
        "    Calcular la pseudo-inversa de matrices.\n",
        "    Procesar múltiples matrices en lotes (batch processing).\n",
        "    Comparar el rendimiento y la precisión de diferentes métodos de inversión (CuPy, PyTorch y NumPy).\n",
        "    \"\"\"\n",
        "\n",
        "    def __init__(self):\n",
        "      #inicializar constructor con la disponibilidad de las librerias\n",
        "        self.cupy_available = GPU_CUPY_AVAILABLE\n",
        "        self.torch_available = GPU_TORCH_AVAILABLE\n",
        "\n",
        "    def cupy_inverse(self, A):\n",
        "        \"\"\"Inversión usando CuPy (NVIDIA GPU)\"\"\"\n",
        "        if not self.cupy_available:\n",
        "            raise RuntimeError(\"CuPy no está disponible\")\n",
        "\n",
        "        #Convertir matriz a procesar en objeto de CuPy\n",
        "        A_gpu = cp.asarray(A, dtype=cp.float32)\n",
        "        #calculo de la inversa, con el paquete cupy\n",
        "        inv_gpu = cp.linalg.inv(A_gpu)\n",
        "        return cp.asnumpy(inv_gpu)\n",
        "\n",
        "    def cupy_pinv(self, A):\n",
        "        \"\"\"Pseudo-inversa usando CuPy (más estable)\"\"\"\n",
        "        if not self.cupy_available:\n",
        "            raise RuntimeError(\"CuPy no está disponible\")\n",
        "\n",
        "        A_gpu = cp.asarray(A, dtype=cp.float32)\n",
        "        #Calculo de la pseudoinversa con la misma libreria\n",
        "        pinv_gpu = cp.linalg.pinv(A_gpu)\n",
        "        return cp.asnumpy(pinv_gpu)\n",
        "\n",
        "##### TRABJAR CON PYTORCH\n",
        "\n",
        "    def torch_inverse(self, A):\n",
        "        \"\"\"Inversión usando PyTorch GPU\"\"\"\n",
        "        if not self.torch_available:\n",
        "            raise RuntimeError(\"PyTorch GPU no está disponible\")\n",
        "\n",
        "        A_tensor = torch.tensor(A, dtype=torch.float32, device='cuda')\n",
        "        #Usando el mismo paquete de algebra lineal, se calcula la invvsa del tensor\n",
        "        inv_tensor = torch.linalg.inv(A_tensor)\n",
        "        return inv_tensor.cpu().numpy()\n",
        "\n",
        "    def torch_pinv(self, A):\n",
        "        \"\"\"Pseudo-inversa usando PyTorch GPU\"\"\"\n",
        "        if not self.torch_available:\n",
        "            raise RuntimeError(\"PyTorch GPU no está disponible\")\n",
        "\n",
        "        A_tensor = torch.tensor(A, dtype=torch.float32, device='cuda')\n",
        "        #Se cuenta con el mismo metodo de pinv (pseudoinversa)\n",
        "        pinv_tensor = torch.linalg.pinv(A_tensor)\n",
        "        return pinv_tensor.cpu().numpy()\n",
        "\n",
        "    def batch_inverse(self, matrices):\n",
        "        \"\"\"Inversión de múltiples matrices en lote\"\"\"\n",
        "        if not self.cupy_available:\n",
        "            raise RuntimeError(\"Requiere CuPy para procesamiento en lotes\")\n",
        "            #Para este caso hacemos el procesamiento de multiples matrices\n",
        "\n",
        "        batch_gpu = cp.asarray(matrices, dtype=cp.float32)\n",
        "        inv_batch_gpu = cp.linalg.inv(batch_gpu)\n",
        "        return cp.asnumpy(inv_batch_gpu)\n",
        "\n",
        "    def compare_methods(self, A, show_details=True):\n",
        "        \"\"\"Compara diferentes métodos disponibles\"\"\"\n",
        "        methods = {}\n",
        "\n",
        "        # Agregar métodos según disponibilidad\n",
        "        if self.cupy_available:\n",
        "            methods.update({\n",
        "                'CuPy Inverse': self.cupy_inverse,\n",
        "                'CuPy Pinv': self.cupy_pinv\n",
        "            })\n",
        "\n",
        "        if self.torch_available:\n",
        "            methods.update({\n",
        "                'PyTorch Inverse': self.torch_inverse,\n",
        "                'PyTorch Pinv': self.torch_pinv\n",
        "            })\n",
        "\n",
        "        # CPU como referencia\n",
        "        methods['NumPy CPU'] = np.linalg.inv\n",
        "        #Se tiene un diccionario para tomar el metodo de inversion de matriz para cada comparación\n",
        "        #Adicional se agrega un 5to metodo que realiza la comparativa de inversión usando numpy (with cpu)\n",
        "        results = {}\n",
        "\n",
        "        for name, method in methods.items():\n",
        "            try:\n",
        "                # Warmup para GPU\n",
        "                if 'CuPy' in name or 'PyTorch' in name:\n",
        "                    _ = method(A.copy())\n",
        "\n",
        "                start_time = time.time()\n",
        "                inv_matrix = method(A.copy())\n",
        "                end_time = time.time()\n",
        "\n",
        "                # Verificar precisión\n",
        "                identity_check = np.allclose(A @ inv_matrix, np.eye(len(A)), atol=1e-5)\n",
        "                error = np.max(np.abs(A @ inv_matrix - np.eye(len(A))))\n",
        "\n",
        "                results[name] = {\n",
        "                    'time': end_time - start_time,\n",
        "                    'valid': identity_check,\n",
        "                    'error': error,\n",
        "                    'inverse': inv_matrix\n",
        "                }\n",
        "\n",
        "                if show_details:\n",
        "                    print(f\"{name}:\")\n",
        "                    print(f\"   Tiempo: {results[name]['time']:.6f}s\")\n",
        "                    print(f\"   Válido: {results[name]['valid']}\")\n",
        "                    print(f\"   Error: {results[name]['error']:.2e}\")\n",
        "                    print()\n",
        "\n",
        "            except Exception as e:\n",
        "                results[name] = {'error': str(e)}\n",
        "                if show_details:\n",
        "                    print(f\"{name}:  Error - {e}\")\n",
        "\n",
        "        return results\n",
        "\n",
        "print(\" Clase GPUMatrixInverter creada\")"
      ],
      "metadata": {
        "colab": {
          "base_uri": "https://localhost:8080/"
        },
        "id": "BBkVUQ1KUw0l",
        "outputId": "d33d8f96-a3f2-425e-9c47-f2626d813112"
      },
      "execution_count": null,
      "outputs": [
        {
          "output_type": "stream",
          "name": "stdout",
          "text": [
            " Clase GPUMatrixInverter creada\n"
          ]
        }
      ]
    },
    {
      "cell_type": "markdown",
      "source": [
        "# Funciones de utilidad\n",
        "\n",
        "En conjunto, estas funciones forman un sistema robusto para evaluar sistemáticamente la eficiencia y la precisión de algoritmos de inversión de matrices en diferentes configuraciones de hardware (CPU vs. GPU) y para distintos tamaños y tipos de matrices. La visualización final hace que los resultados sean fáciles de interpretar.\n",
        "\n",
        "* Función `generate_matrix`:\n",
        "\n",
        "    Esta función está diseñada para crear matrices de prueba con características numéricas específicas, las cuales son cruciales para realizar pruebas de rendimiento (benchmarking). Puedes controlar la \"condición\" de la matriz, lo que influye en cuán fácil o difícil es invertirla numéricamente.\n",
        "\n",
        " * `size`: Este parámetro define las dimensiones de la matriz cuadrada. Un size de N producirá una matriz de N x N.\n",
        "\n",
        " *  `condition`: Este parámetro de tipo cadena de texto controla la \"condición\" numérica de la matriz:\n",
        "\n",
        "   * `'well'` (bien condicionada): Genera una matriz que es fácil de invertir de forma precisa. El código logra esto creando una matriz aleatoria, multiplicándola por su transpuesta (A @ A.T), y luego añadiendo una pequeña matriz identidad escalada por 0.1. Esta operación tiende a hacer que la matriz sea simétrica definida positiva, las cuales suelen estar bien condicionadas.\n",
        "\n",
        "   * `'ill'` (mal condicionada): Genera una matriz que es difícil de invertir numéricamente. Esto significa que pequeños cambios en la entrada pueden llevar a grandes cambios en el resultado, y se puede perder precisión. Aquí, se añade un valor muy pequeño (1e-10) a la diagonal, lo que acerca la matriz a la singularidad (no invertibilidad).\n",
        "\n",
        "    Cualquier otro valor (aleatoria estándar): Si condition no es 'well' ni 'ill', se genera una matriz aleatoria estándar sin un control específico sobre su condición.\n",
        "\n",
        " * `seed`: Establece la semilla para el generador de números aleatorios de NumPy. Usar una seed fija (como 42) asegura que las matrices \"aleatorias\" generadas sean exactamente las mismas cada vez que ejecutes la función. Esto es vital para benchmarks reproducibles, permitiéndote comparar métodos de manera justa entre diferentes ejecuciones.\n",
        "\n",
        "* Función `benchmark_sizes`\n",
        "Esta función organiza el proceso de evaluación del rendimiento (benchmarking) a través de diferentes tamaños de matriz. Automatiza la ejecución de tu método compare_methods (contenido en el objeto inverter) para varias dimensiones de matriz.\n",
        "\n",
        "  * `inverter`: Este es un objeto (probablemente una instancia de la clase que contiene compare_methods) que tiene la funcionalidad para comparar diferentes técnicas de inversión de matrices.\n",
        "\n",
        "  * `sizes`: Una lista de números enteros que representan las diferentes dimensiones de las matrices cuadradas (N x N) a probar. Por defecto, prueba matrices de 500x500, 1000x1000 y 5000x5000.\n",
        "\n",
        "###Funcionamiento:\n",
        "  Inicializa un diccionario vacío results para almacenar todos los datos del benchmark, posteriormente i tera sobre cada size en la lista sizes.\n",
        "\n",
        "  Llama a generate_matrix(size) para crear una nueva matriz de prueba con el tamaño especificado.\n",
        "\n",
        "  Luego, llama a `inverter.compare_methods(A, show_details=False`). Aquí es donde ocurre la comparación real de los métodos de inversión. `show_details=False` significa que compare_methods no imprimirá los resultados detallados de cada método individualmente; benchmark_sizes se encarga de mostrar solo los tiempos de forma resumida.\n",
        "\n",
        "  Almacena los resultados de `compare_methods` para el tamaño actual en el diccionario results.\n",
        "  Muestra solo los tiempos: Itera sobre los resultados de size_results (los resultados para el tamaño de matriz actual).\n",
        "\n",
        "  Calcula y muestra un factor de aceleración (speedup) si el método no es 'NumPy CPU' y si 'NumPy CPU' también tiene un tiempo registrado. La aceleración se calcula como tiempo_numpy_cpu / tiempo_metodo. Esto te indica cuántas veces más rápido es el método actual en comparación con la referencia de CPU.\n",
        "  Finalmente, la función devuelve el diccionario results completo con los tiempos y detalles de rendimiento para todos los tamaños probados.\n",
        "\n",
        "* Función `plot_benchmark`:\n",
        "\n",
        "   Esta función se encarga de visualizar los resultados del benchmark de una manera gráfica, permitiendo una fácil comparación del rendimiento de los diferentes métodos de inversión a medida que el tamaño de la matriz aumenta.\n",
        "\n",
        "  * benchmark_results: Este es el diccionario de resultados devuelto por la función benchmark_sizes.\n",
        "\n"
      ],
      "metadata": {
        "id": "ych27IxeT6ji"
      }
    },
    {
      "cell_type": "code",
      "source": [
        "def generate_matrix(size, condition='well', seed=42):\n",
        "    \"\"\"\n",
        "    Genera matrices de prueba con diferentes características, utlidades!\n",
        "    \"\"\"\n",
        "    np.random.seed(seed)\n",
        "\n",
        "    if condition == 'well':\n",
        "        # Matriz bien condicionada (fácil de invertir)\n",
        "        A = np.random.randn(size, size).astype(np.float32)\n",
        "        A = A @ A.T + np.eye(size) * 0.1\n",
        "    elif condition == 'ill':\n",
        "        # Matriz mal condicionada (difícil de invertir)\n",
        "        A = np.random.randn(size, size).astype(np.float32)\n",
        "        A = A @ A.T + np.eye(size) * 1e-10\n",
        "    else:\n",
        "        # Matriz aleatoria estándar\n",
        "        A = np.random.randn(size, size).astype(np.float32)\n",
        "\n",
        "    return A\n",
        "\n",
        "def benchmark_sizes(inverter, sizes=[500, 1000, 5000]):\n",
        "    \"\"\"Benchmark con diferentes tamaños de matriz\"\"\"\n",
        "    results = {}\n",
        "\n",
        "    for size in sizes:\n",
        "        print(f\"\\n Benchmarking {size}x{size}\")\n",
        "        A = generate_matrix(size)\n",
        "\n",
        "        size_results = inverter.compare_methods(A, show_details=False)\n",
        "        results[size] = size_results\n",
        "\n",
        "        # Mostrar solo tiempos\n",
        "        for method, result in size_results.items():\n",
        "            if 'time' in result:\n",
        "                speedup = \"\"\n",
        "                if 'NumPy CPU' in size_results and method != 'NumPy CPU':\n",
        "                    if 'time' in size_results['NumPy CPU']:\n",
        "                        speedup_val = size_results['NumPy CPU']['time'] / result['time']\n",
        "                        speedup = f\" ({speedup_val:.1f}x más rápido)\"\n",
        "\n",
        "                print(f\"  {method}: {result['time']:.4f}s{speedup}\")\n",
        "\n",
        "    return results\n",
        "\n",
        "def plot_benchmark(benchmark_results):\n",
        "    \"\"\"Graficar resultados del benchmark\"\"\"\n",
        "    methods = []\n",
        "    sizes = list(benchmark_results.keys())\n",
        "\n",
        "    # Obtener métodos disponibles\n",
        "    for size_results in benchmark_results.values():\n",
        "        for method in size_results.keys():\n",
        "            if method not in methods and 'time' in size_results[method]:\n",
        "                methods.append(method)\n",
        "\n",
        "    plt.figure(figsize=(12, 8))\n",
        "\n",
        "    colors = ['#FF6B6B', '#4ECDC4', '#45B7D1', '#96CEB4', '#FFEAA7']\n",
        "\n",
        "    for i, method in enumerate(methods):\n",
        "        times = []\n",
        "        valid_sizes = []\n",
        "\n",
        "        for size in sizes:\n",
        "            if method in benchmark_results[size] and 'time' in benchmark_results[size][method]:\n",
        "                times.append(benchmark_results[size][method]['time'])\n",
        "                valid_sizes.append(size)\n",
        "\n",
        "        if times:\n",
        "            plt.plot(valid_sizes, times, marker='o', label=method,\n",
        "                    linewidth=3, markersize=8, color=colors[i % len(colors)])\n",
        "\n",
        "    plt.xlabel('Tamaño de Matriz', fontsize=12)\n",
        "    plt.ylabel('Tiempo (segundos)', fontsize=12)\n",
        "    plt.title('Benchmark: Inversión de Matrices GPU vs CPU', fontsize=14, fontweight='bold')\n",
        "    plt.legend(fontsize=10)\n",
        "    plt.grid(True, alpha=0.3)\n",
        "    plt.yscale('log')\n",
        "    plt.tight_layout()\n",
        "    plt.show()\n",
        "\n",
        "print(\" Funciones de utilidad creadas\")"
      ],
      "metadata": {
        "colab": {
          "base_uri": "https://localhost:8080/"
        },
        "id": "XeakyVw0VZDl",
        "outputId": "a869008c-8912-4dc2-8eea-a57ea8e889b6"
      },
      "execution_count": null,
      "outputs": [
        {
          "output_type": "stream",
          "name": "stdout",
          "text": [
            " Funciones de utilidad creadas\n"
          ]
        }
      ]
    },
    {
      "cell_type": "code",
      "source": [
        "###CASOS DE USO"
      ],
      "metadata": {
        "id": "bNE4clcRMBRq"
      },
      "execution_count": null,
      "outputs": []
    },
    {
      "cell_type": "markdown",
      "source": [
        "#Uso del codigo"
      ],
      "metadata": {
        "id": "jJ4MzH31_aXS"
      }
    },
    {
      "cell_type": "code",
      "source": [
        "inverter = GPUMatrixInverter()\n",
        "#Objeto de la clase\n",
        "\n",
        "# Generar matriz de prueba pequeña\n",
        "A_small = generate_matrix(3)\n",
        "print(\" Matriz de prueba 3x3:\")\n",
        "print(A_small)\n",
        "print()\n",
        "\n",
        "# Comparar métodos\n",
        "print(\"📊 Comparación de métodos:\")\n",
        "results = inverter.compare_methods(A_small)"
      ],
      "metadata": {
        "colab": {
          "base_uri": "https://localhost:8080/"
        },
        "id": "AYRNVLOjVb_f",
        "outputId": "127de8a2-2b50-41e8-cb11-c1d0dd1ced71"
      },
      "execution_count": null,
      "outputs": [
        {
          "output_type": "stream",
          "name": "stdout",
          "text": [
            " Matriz de prueba 3x3:\n",
            "[[0.78534243 0.63723767 0.3742353 ]\n",
            " [0.63723767 2.52926764 2.33541179]\n",
            " [0.3742353  2.33541179 3.40327535]]\n",
            "\n",
            "📊 Comparación de métodos:\n",
            "CuPy Inverse:\n",
            "   Tiempo: 0.000522s\n",
            "   Válido: True\n",
            "   Error: 1.89e-07\n",
            "\n",
            "CuPy Pinv:\n",
            "   Tiempo: 0.001621s\n",
            "   Válido: True\n",
            "   Error: 7.60e-07\n",
            "\n",
            "PyTorch Inverse:\n",
            "   Tiempo: 0.000522s\n",
            "   Válido: True\n",
            "   Error: 2.84e-07\n",
            "\n",
            "PyTorch Pinv:\n",
            "   Tiempo: 0.000813s\n",
            "   Válido: True\n",
            "   Error: 6.14e-07\n",
            "\n",
            "NumPy CPU:\n",
            "   Tiempo: 0.005324s\n",
            "   Válido: True\n",
            "   Error: 5.55e-16\n",
            "\n"
          ]
        }
      ]
    },
    {
      "cell_type": "markdown",
      "source": [
        "#Grafica del benchmark"
      ],
      "metadata": {
        "id": "BO7ousWST-D7"
      }
    },
    {
      "cell_type": "code",
      "source": [
        "# Ejecutar benchmark con diferentes tamaños\n",
        "print(\" Ejecutando benchmark completo...\")\n",
        "benchmark_results = benchmark_sizes(inverter, sizes=[100, 500, 1000, 5000, 10000])\n",
        "\n",
        "# Graficar resultados\n",
        "plot_benchmark(benchmark_results)"
      ],
      "metadata": {
        "colab": {
          "base_uri": "https://localhost:8080/",
          "height": 1000
        },
        "id": "Wzj6S-7gVe7E",
        "outputId": "a6c5f120-b60a-4627-8262-f074eb2acbfb"
      },
      "execution_count": null,
      "outputs": [
        {
          "output_type": "stream",
          "name": "stdout",
          "text": [
            " Ejecutando benchmark completo...\n",
            "\n",
            " Benchmarking 100x100\n",
            "  CuPy Inverse: 0.0009s (0.8x más rápido)\n",
            "  CuPy Pinv: 0.0124s (0.1x más rápido)\n",
            "  PyTorch Inverse: 0.0009s (0.8x más rápido)\n",
            "  PyTorch Pinv: 0.0085s (0.1x más rápido)\n",
            "  NumPy CPU: 0.0007s\n",
            "\n",
            " Benchmarking 500x500\n",
            "  CuPy Inverse: 0.0059s (10.2x más rápido)\n",
            "  CuPy Pinv: 0.0827s (0.7x más rápido)\n",
            "  PyTorch Inverse: 0.0076s (8.0x más rápido)\n",
            "  PyTorch Pinv: 0.0435s (1.4x más rápido)\n",
            "  NumPy CPU: 0.0603s\n",
            "\n",
            " Benchmarking 1000x1000\n",
            "  CuPy Inverse: 0.0421s (3.1x más rápido)\n",
            "  CuPy Pinv: 0.1495s (0.9x más rápido)\n",
            "  PyTorch Inverse: 0.0127s (10.2x más rápido)\n",
            "  PyTorch Pinv: 0.1620s (0.8x más rápido)\n",
            "  NumPy CPU: 0.1301s\n",
            "\n",
            " Benchmarking 5000x5000\n",
            "  CuPy Inverse: 0.5128s (15.6x más rápido)\n",
            "  CuPy Pinv: 10.3763s (0.8x más rápido)\n",
            "  PyTorch Inverse: 0.3408s (23.5x más rápido)\n",
            "  PyTorch Pinv: 21.0822s (0.4x más rápido)\n",
            "  NumPy CPU: 8.0031s\n",
            "\n",
            " Benchmarking 10000x10000\n",
            "  CuPy Inverse: 10.7100s (5.3x más rápido)\n",
            "  CuPy Pinv: 85.1725s (0.7x más rápido)\n",
            "  PyTorch Inverse: 1.8425s (30.6x más rápido)\n",
            "  PyTorch Pinv: 171.5498s (0.3x más rápido)\n",
            "  NumPy CPU: 56.3132s\n"
          ]
        },
        {
          "output_type": "display_data",
          "data": {
            "text/plain": [
              "<Figure size 1200x800 with 1 Axes>"
            ],
            "image/png": "[encoded data removed]"
          },
          "metadata": {}
        }
      ]
    },
    {
      "cell_type": "code",
      "source": [
        "# Ejemplo con matriz muy grande\n",
        "size = 2000\n",
        "print(f\"Invirtiendo matriz {size}x{size}...\")\n",
        "\n",
        "A_large = generate_matrix(size)\n",
        "print(f\"Matriz generada: {A_large.shape}\")\n",
        "\n",
        "# Solo probar métodos GPU para matrices grandes\n",
        "if inverter.cupy_available:\n",
        "    print(\"\\n Usando CuPy:\")\n",
        "    start = time.time()\n",
        "    inv_cupy = inverter.cupy_inverse(A_large)\n",
        "    time_cupy = time.time() - start\n",
        "    print(f\"  Tiempo: {time_cupy:.2f}s\")\n",
        "\n",
        "    # Verificar resultado\n",
        "    error = np.mean(np.abs(A_large @ inv_cupy - np.eye(size)))\n",
        "    print(f\"  Error promedio: {error:.2e}\")\n",
        "\n",
        "if inverter.torch_available:\n",
        "    print(\"\\n Usando PyTorch:\")\n",
        "    start = time.time()\n",
        "    inv_torch = inverter.torch_inverse(A_large)\n",
        "    time_torch = time.time() - start\n",
        "    print(f\"  Tiempo: {time_torch:.2f}s\")\n",
        "\n",
        "    # Verificar resultado\n",
        "    error = np.mean(np.abs(A_large @ inv_torch - np.eye(size)))\n",
        "    print(f\"  Error promedio: {error:.2e}\")"
      ],
      "metadata": {
        "colab": {
          "base_uri": "https://localhost:8080/"
        },
        "id": "CoQ7nDiuV0er",
        "outputId": "160e97dd-fbe5-440c-ac81-9c9868d52931"
      },
      "execution_count": null,
      "outputs": [
        {
          "output_type": "stream",
          "name": "stdout",
          "text": [
            "Invirtiendo matriz 2000x2000...\n",
            "Matriz generada: (2000, 2000)\n",
            "\n",
            " Usando CuPy:\n",
            "  Tiempo: 0.06s\n",
            "  Error promedio: 2.01e-05\n",
            "\n",
            " Usando PyTorch:\n",
            "  Tiempo: 0.05s\n",
            "  Error promedio: 8.72e-06\n"
          ]
        }
      ]
    },
    {
      "cell_type": "code",
      "source": [
        "if inverter.cupy_available:\n",
        "    print(\"Procesamiento en lotes con CuPy:\")\n",
        "\n",
        "    # Generar lote de matrices\n",
        "    batch_size = 10\n",
        "    matrix_size = 100\n",
        "\n",
        "    matrices = []\n",
        "    for i in range(batch_size):\n",
        "        matrices.append(generate_matrix(matrix_size, seed=i))\n",
        "\n",
        "    matrices_array = np.array(matrices)\n",
        "    print(f\"Lote creado: {matrices_array.shape}\")\n",
        "\n",
        "    # Procesar en lote\n",
        "    start = time.time()\n",
        "    inv_batch = inverter.batch_inverse(matrices_array)\n",
        "    batch_time = time.time() - start\n",
        "\n",
        "    print(f\" Tiempo total: {batch_time:.4f}s\")\n",
        "    print(f\" Tiempo por matriz: {batch_time/batch_size:.4f}s\")\n",
        "\n",
        "    # Verificar un resultado\n",
        "    error = np.mean(np.abs(matrices_array[0] @ inv_batch[0] - np.eye(matrix_size)))\n",
        "    print(f\" Error verificación: {error:.2e}\")\n",
        "else:\n",
        "    print(\" Procesamiento en lotes requiere CuPy\")"
      ],
      "metadata": {
        "colab": {
          "base_uri": "https://localhost:8080/"
        },
        "id": "QT9lQG9IV5vt",
        "outputId": "96036295-2662-4e34-b3e7-b3fb4b556cd1"
      },
      "execution_count": null,
      "outputs": [
        {
          "output_type": "stream",
          "name": "stdout",
          "text": [
            "Procesamiento en lotes con CuPy:\n",
            "Lote creado: (10, 100, 100)\n",
            " Tiempo total: 0.1536s\n",
            " Tiempo por matriz: 0.0154s\n",
            " Error verificación: 3.31e-06\n"
          ]
        }
      ]
    },
    {
      "cell_type": "markdown",
      "source": [
        "#Funcionamiento\n",
        "La función `analyze_gpu_memory` está diseñada para inspeccionar y reportar el uso actual de la memoria de la GPU. Su propósito es mostrar cómo se asigna y libera la memoria cuando se utilizan CuPy y PyTorch, dos librerías populares para computación en GPU con Python. Ayuda a entender si tu GPU está siendo utilizada de manera eficiente."
      ],
      "metadata": {
        "id": "x7vGFfQ4AJZb"
      }
    },
    {
      "cell_type": "code",
      "source": [
        "def analyze_gpu_memory():\n",
        "    \"\"\"Analizar uso de memoria GPU\"\"\"\n",
        "    if GPU_CUPY_AVAILABLE:\n",
        "        print(\" Análisis de memoria CuPy:\")\n",
        "\n",
        "        # Memoria antes\n",
        "        free_before, total = cp.cuda.runtime.memGetInfo()\n",
        "        used_before = total - free_before\n",
        "\n",
        "        print(f\"  Memoria total: {total / 1024**3:.1f} GB\")\n",
        "        print(f\"  Memoria usada: {used_before / 1024**3:.1f} GB\")\n",
        "        print(f\"  Memoria libre: {free_before / 1024**3:.1f} GB\")\n",
        "\n",
        "        # Crear matriz grande en GPU\n",
        "        size = 1000\n",
        "        A_gpu = cp.random.randn(size, size, dtype=cp.float32)\n",
        "\n",
        "        # Memoria después\n",
        "        free_after, _ = cp.cuda.runtime.memGetInfo()\n",
        "        used_after = total - free_after\n",
        "\n",
        "        print(f\"\\n  Después de crear matriz {size}x{size}:\")\n",
        "        print(f\"  Memoria usada: {used_after / 1024**3:.1f} GB\")\n",
        "        print(f\"  Memoria utilizada: {(used_after - used_before) / 1024**3:.3f} GB\")\n",
        "\n",
        "        # Limpiar\n",
        "        del A_gpu\n",
        "        cp.cuda.runtime.deviceSynchronize()\n",
        "\n",
        "    if GPU_TORCH_AVAILABLE:\n",
        "        print(\"\\n Análisis de memoria PyTorch:\")\n",
        "        print(f\"  Memoria total: {torch.cuda.get_device_properties(0).total_memory / 1024**3:.1f} GB\")\n",
        "        print(f\"  Memoria asignada: {torch.cuda.memory_allocated() / 1024**3:.3f} GB\")\n",
        "        print(f\"  Memoria reservada: {torch.cuda.memory_reserved() / 1024**3:.3f} GB\")\n",
        "\n",
        "analyze_gpu_memory()"
      ],
      "metadata": {
        "colab": {
          "base_uri": "https://localhost:8080/"
        },
        "id": "szRHbPSBWBZT",
        "outputId": "517b2210-da94-4af1-a31b-818d296e3ba5"
      },
      "execution_count": null,
      "outputs": [
        {
          "output_type": "stream",
          "name": "stdout",
          "text": [
            " Análisis de memoria CuPy:\n",
            "  Memoria total: 14.7 GB\n",
            "  Memoria usada: 5.9 GB\n",
            "  Memoria libre: 8.8 GB\n",
            "\n",
            "  Después de crear matriz 1000x1000:\n",
            "  Memoria usada: 5.9 GB\n",
            "  Memoria utilizada: 0.000 GB\n",
            "\n",
            " Análisis de memoria PyTorch:\n",
            "  Memoria total: 14.7 GB\n",
            "  Memoria asignada: 0.008 GB\n",
            "  Memoria reservada: 2.852 GB\n"
          ]
        }
      ]
    }
  ]
}